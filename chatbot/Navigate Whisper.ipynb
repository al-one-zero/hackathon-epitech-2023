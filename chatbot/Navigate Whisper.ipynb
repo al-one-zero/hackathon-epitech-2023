{
 "cells": [
  {
   "cell_type": "code",
   "execution_count": 1,
   "id": "a3cc814c-72f8-43dc-b455-b053a79977d7",
   "metadata": {},
   "outputs": [],
   "source": [
    "import pathlib as p\n",
    "import json"
   ]
  },
  {
   "cell_type": "markdown",
   "id": "5932c328-840b-4db4-a8a8-14bed320f712",
   "metadata": {},
   "source": [
    "## Avec `pandas`"
   ]
  },
  {
   "cell_type": "code",
   "execution_count": 2,
   "id": "2b6bb5c4-188b-4cb7-a3a3-b4711441f93c",
   "metadata": {},
   "outputs": [],
   "source": [
    "import pandas as pd"
   ]
  },
  {
   "cell_type": "code",
   "execution_count": 3,
   "id": "4b1d8791-366a-43e6-96f0-213b480803ce",
   "metadata": {},
   "outputs": [],
   "source": [
    "df = pd.read_csv(\n",
    "    p.Path(\"../dataset\") / \"transcripts\" / \"whisper.csv\",\n",
    "    index_col=\"magnetothequeId\", # Nécessaire pour .loc[]\n",
    "    nrows=3000\n",
    ")"
   ]
  },
  {
   "cell_type": "code",
   "execution_count": 4,
   "id": "1403b419-a8df-4800-b096-6bcf5f390752",
   "metadata": {},
   "outputs": [],
   "source": [
    "def fetch(mid: str) -> pd.Series | None:\n",
    "    return df.loc[mid] if mid in df.index else None"
   ]
  },
  {
   "cell_type": "code",
   "execution_count": 5,
   "id": "e1aca817-312c-4d79-8aa3-ad18f0ff1ab0",
   "metadata": {
    "scrolled": true
   },
   "outputs": [
    {
     "data": {
      "text/plain": [
       "\" Pour espionner, traquer, pister, enfin géolocaliser avec des GPS dissimulés dans les endroits les plus improbables, la technologie moderne déborde d'imagination. Nous obtenons ainsi à l'heure insue des informations sur nos proches, nos ennemis, nos collègues, nos enfants, nos parents et même nos morts. J'ai visité récemment en Pologne, mais ça existe aussi ailleurs, un spy shop. Un spy shop, c'est une chaîne de magasins qui vend un nombre inimaginable de gadgets destinés à espionner autrui ou disons à se renseigner selon les points de vue. Dans ce pays encore très marqué par la guerre froide, ça ne choque pas grand monde. Et ce qui est encore plus cocasse, c'est que tandis qu'une vitrine entière est occupée par le matériel d'espionnage et les GPS à planquer un peu partout, celle d'à côté est remplie par une gamme complète d'appareils destinés à détecter et neutraliser la présence de ceux qui sont dans la première vitrine à côté. Il y a différents niveaux de sophistication, de prix et d'usage qui vont des détecteurs d'écoute aux localisateurs de puces et de GPS. Tout de suite dans les pieds sur terre, on vous parle de ça, ce sont deux histoires autour des GPS et qui se passent bien chez nous, ne rions pas longtemps. Elles sont racontées par Anna Benjamin. Je m'appelle Mélanie, je suis professeure des écoles à Paris où j'enseigne depuis une vingtaine d'années, dans le 18ème en classe de CE2. Donc je suis partie avec mes élèves en classe de mer, en Normandie, dans le Cotentin précisément, pour 11 jours de découverte du char à voile. C'est un départ en car, un séjour sur place avec les élèves de CE2, 20 élèves, qui étaient très excités à l'idée de partir, en mois de janvier 2023, il y a quelques mois. Alors 11 jours c'est assez long pour les enfants, pour les parents et même pour moi, mais ce n'est pas la première fois que je pars en classe de découverte, donc c'est vrai qu'il y a un temps d'adaptation. Donc j'organise à chaque fois une réunion avec les parents pour bien leur expliquer comment ça va se passer, pour les rassurer surtout que je reste responsable du groupe et des enfants 24h sur 24, et puis pour leur dire aussi qu'ils n'auront pas leurs enfants au téléphone, donc ça, ça pose pas mal de soucis. Et puis après je reçois certains parents individuellement, pour ceux qui ont des choses particulières à me dire sur leurs enfants, des petits bobos, des petits chagrins, des petites habitudes, et il y en a quelques-uns effectivement qui me demandent un rendez-vous en plus, pour me raconter tout un tas de petites choses, ou de médicaments, ou de… voilà. Alors on part effectivement en car, donc à un grand périple, on arrive sur le centre qu'on découvre, et puis là c'est vraiment la demi-journée ou après ce voyage terriblement fatigant puisqu'on a mis 6h pour arriver quand même, c'est pas rien, donc on arrive vraiment très fatigué, très excité aussi, et donc on va tout de suite sur la plage qui est à 50m du centre, parce que voilà, c'est les petits parisiens, on s'est dit qu'il faut tout de suite aller sur la plage, et puis au bout d'un moment il faut rentrer pour s'installer, et s'installer, ça implique ouvrir les bagages, sortir les affaires, les ranger dans le placard, les trousses de toilettes ensemble, et puis faire son lit, donc ça aussi c'est pas une mince affaire. Donc là tout le monde est réparti dans les chambres, donc moi j'ai 6 chambres pour mes élèves, ils sont à 3 ou à 4, et là ils ont jamais fait leur lit, donc il faut être partout, à droite, à gauche, ouvrir les balises, je trouve plus mes chaussures, mes trousses de toilettes, etc, donc ça court dans tous les sens, et c'est beaucoup d'agitation. Et donc ça fait 2 bonnes heures qu'on est sur le centre, et là mon téléphone, donc j'ai un Iphone un peu dernière génération, je sais pas quel est son numéro, mais enfin il est bien, et je reçois des notifications, donc je les enlève automatiquement, parce qu'on m'a dit qu'il ne faut rien ouvrir des trucs bizarres qui arrivent sur le téléphone, donc j'enlève, j'enlève, et puis au bout d'un moment je lis, il y a écrit un appareil étranger, suive aux déplacements, donc là je me dis qu'est-ce que c'est que cette histoire, et tout de suite je supprime, pour ne pas ouvrir cette notification qui peut-être être dangereuse pour moi, et je laisse tomber, je remets mon téléphone dans la poche et je continue à faire les lits, à sortir les affaires des balises, voilà, je m'inquiète pas en fait, ça ne m'inquiète pas, même si je me dis, on suit mes déplacements, mais je me dis que c'est encore une pub, ou je ne sais quoi, voilà. Une demi-heure, une heure après ça, j'ai un des animateurs, donc il y a un jeune homme, qui doit avoir 21 ans, donc beaucoup plus au fait des nouvelles technologies, qui me dit, Mélanie, est-ce que c'est toi qui as un appareil connecté ? Non, je n'ai pas d'appareil connecté, enfin qu'est-ce que tu entends par là ? Il me dit un AirTag, j'ai jamais entendu ce nom-là de ma vie, je dis non, non, il me dit parce que je reçois des notifications, il me dit, ah bon, moi aussi je reçois des notifications, il me dit, t'as ouvert ? Non, surtout pas ouvrir, il m'a dit, mais si, il faut ouvrir, il faut aller dans l'application, ça veut dire qu'un enfant porte un AirTag, alors là, qu'est-ce que ça signifie ? On est suivi, on est suivi, bon, panique à bord, et donc c'est lui qui va dans l'application localisée de son téléphone, et me dit, regarde, effectivement, on voit sur la carte en fait, de là où on est, des petits pointillés qui suivent tous nos trajets sur la plage avec, au mètre près, j'ai envie de dire, où est-ce que nous sommes allés, depuis le départ de Paris, on voit notre arrêt à Caen, où on a pique-niqué dans le car, qu'est-ce que ça signifie ? Il me dit, les parents ont mis certainement sur un élève un AirTag pour savoir où il était, c'est bizarre, parce qu'ils savent où on est les parents, je leur ai dit où on allait, donc je ne comprends pas, et lui, lui découvrait aussi en fait, donc il me dit, je crois que je peux le faire biper, donc je dis, ben allons-y, et on va dans chaque chambre, en fermant bien la porte, en demandant aux élèves présents de la chambre de se taire, pour faire biper, et là, ça matche direct sur la première chambre, puisqu'il y a une enfant qui dit, ah mais c'est moi, c'est moi, j'ai un AirTag, et je lui dis, mais t'es au courant qu'il y a ça ? Elle me dit, ah oui, c'est dans mon sac, voilà, elle n'est pas très gênée, bon, son petit, il a 8 ans, il ne s'exprime pas trop sur, voilà, elle l'est toujours dans son sac, donc elle sait exactement ce que c'est, elle me le donne tout de suite, donc très bien, je prends l'objet, qui est tout petit, c'est minuscule, c'est une pièce de 2 euros, donc mon animateur me dit, ah ben c'est ça, ça émet un signal qui donne aux parents, donc, notre localisation, et effectivement, quand là, l'animateur le fait biper, on entend un bip, mais vraiment très léger, donc bon, je me dis, voilà, l'affaire est réglée, finalement, ce n'était pas grand-chose, mais je me suis dit, tiens, quand même, les parents, pas très chic, et là, l'animateur me dit, attend, attend, il y a un autre, on est encore suivi, non, mais c'était un scénario incroyable, je dis, ok, donc on continue notre recherche, et on rentre dans une autre chambre où il y a 4 garçons, et là, on leur dit, les gars, est-ce que l'un d'entre vous a un RTAG ou quelque chose pour nous, je dis, ok, personne ne réagit, et l'animateur me confirme, si, si, c'est bien dans cette chambre, il est là, donc là, on a toutes les affaires, tous les bagages, et aucun enfant n'est au courant, donc ça reste le mystère, alors on cherche dans les valises, et l'animateur me dit, ah, non, non, c'est plus vers la droite, enfin, c'était vraiment chaud-froid, tu te rapproches, très très chaud, donc on savait dans quelle zone, après, on a pu savoir que c'était sur ces deux enfants-là qui rangeaient leurs vêtements dans le même placard, et donc on demande le silence absolu, mais c'était compliqué, on finit par entendre un mini bip qui vient d'un blouson, donc là, on cherche dans les poches du blouson, il n'y a rien dans le blouson, donc mystère, donc l'animateur part avec le blouson dans le couloir, et ça suit le blouson, donc je demande à cet élève, mais qu'est-ce qu'il a, ton blouson, il y a quelque chose dedans, il ne savait pas du tout, il n'était pas au courant, ben non, il ne comprenait pas, il ne répondait à rien, donc moi, je continue à faire mon Sherlock Holmes, et je vois qu'à l'intérieur du blouson, il y a une couture grossière qui est faite, avec du fil pas assorti à la couleur du blouson, et en tâtant, évidemment, à travers le tissu, on sent la pièce de 2 euros, à priori, l'objet du délit avait été trouvé ici, mais là, je ne pouvais pas enlever le blouson à l'enfant, parce qu'il avait besoin de son blouson vu les températures normandes, j'aurais pu découdre, enlever, mais j'avais peur aussi que le parent s'inquiète en voyant que le truc ne bougeait plus, mon enfant est puni dans une chambre, il ne bouge pas du centre alors que tout le monde doit faire du char à voile, alors j'ai laissé dans le manteau parce que je ne savais pas quoi en faire, et le soir, j'ai appelé ma directrice pour lui dire qu'est-ce que je peux faire de cette chose, elle était très embarrassée aussi, parce qu'elle ne connaissait pas non plus, donc ça m'a énervé, parce que franchement, on part avec les enfants, donc à priori, il y a quand même une confiance qui s'installe, et là, j'avais un sentiment d'être surveillée, espionnée, pourquoi en plus, pour aller dans le centre où on avait dit qu'on allait, donc j'ai trouvé ça un peu bizarre, surtout qu'une des deux familles, c'est une famille avec laquelle j'avais passé du temps pour les rassurer, et donc je ne savais pas quoi faire avec ce blouson, donc j'ai laissé tomber, et on a poursuivi l'installation des enfants, mais avec cette idée dans la tête, qu'est-ce que je vais faire de ces informations, j'ai quand même suivi par deux airtags. Donc le soir, quand les enfants sont couchés, je vais sur internet me renseigner, et donc c'est un nouveau produit, qui est fait à l'origine pour géolocaliser, donc un sac, des clés, un objet, qu'on aurait égaré, du coup le téléphone sait où est cet objet, et permet de le retrouver rapidement. Et en fait, il est détourné de son utilisation, pour suivre les enfants, et il fonctionne en utilisant le bluetooth de nos appareils, et nous on a reçu des notifications, l'animateur et moi, parce qu'on est équipé du Iphone moderne, je veux dire, les autres qui avaient des androïd, des samsung, ou des vieux Iphone, n'ont pas du tout été informés qu'on était suivi. Et alors donc sur internet, je vois à la fin des articles que j'ai lu, si vous craignez pour votre sécurité, contactez les autorités locales, je vois informer les forces de l'or, je me suis dit qu'est-ce que c'est que ce truc, j'avais l'impression d'être dans un 007. Donc les deux airtags, pendant 11 jours, j'ai pas réussi à m'en débarrasser, j'ai regardé sur internet, alors ils disaient de le déconnecter, mais je demandais à l'animateur de l'aide, on voyait pas comment le déconnecter, enlever la pile, j'avais pas envie d'abîmer l'objet, je lui ai dit on réglera ça après, mais ça restait pour moi un sujet, je me suis dit on est suivi en permanence, c'est un petit peu bizarre. Tous les soirs, je faisais un petit message aux parents pour leur raconter notre journée, alimenter de quelques photos, et donc ça a bien fonctionné, les parents étaient très impatients le soir d'avoir des nouvelles de la journée, et puis c'est au bout de 3-4 jours je crois, donc après avoir fait mon petit résumé de la journée, avoir mis des photos, on est rendu compte que tout le monde va bien, on s'amuse et tout, je leur mets un message pour leur dire que je suis pas contente, que j'ai découvert des mouchards. Sinon, je ne vous cache pas que je suis un peu contrariée, car nous avons découvert que nous sommes surveillés à notre insu grâce à des dispositifs de suivi cachés, aujourd'hui appelés R-Tag, autrefois appelés mouchards, permettant aux parents de nous pister avec précision, ça frôle l'illégalité, j'aurais aimé être informée, on aurait gagné du temps, car c'est bidule émettre des bips qui nous ont inquiétés, heureusement que je suis avec des jeunes plus au fait des nouvelles technologies, tout ça n'est pas très grave, les enfants vont bien, même si quelques n'écoulent, je veille. Voilà, c'était ça mon petit message de colère, qui a pris des proportions après, apparemment au niveau des parents, tout le monde est choqué de cette utilisation frauduleuse, alors que peut-être que c'est super pour retrouver ses clés, mais le coller sur un enfant, c'est vrai jusqu'où on peut aller, est-ce qu'on peut après leur en mettre dans le sac de son adolescent qui n'est pas au courant ? Et puis après, j'ai eu une des mamans qui m'a tout de suite écrit pour m'expliquer qu'ils vivaient avec, qu'ils en avaient plusieurs chez eux, que c'était ultra pratique comme objet et qu'on a été tous un peu déconnectés de la réalité, parce que ça existait depuis pas mal de temps, qu'on est tous un petit peu has-been et qu'il faut qu'on vive avec notre temps puisque l'intelligence artificielle arrive à grands pas et qu'on ne sait même pas ce que c'est qu'un RTAG. Ok, mais bon, c'est sûr que moi avec ma crème, mon tableau au noir, je sais un peu, donc si je refais une classe de découverte sur ma feuille de réunion, parce que je prépare ma réunion pour ne pas oublier d'éléments, il y a des petites choses qui changent d'année en année. Là, je rajouterais un chapitre sur le RTAG. Je suis Léni Lafertain, j'ai 32 ans, je suis de Tarbes, je suis cascadeur professionnel, donc on fait du spectacle itinérant de ville en ville, je fais partie des gens du voyage. Donc là, il y a ma grand-mère, il y a les parents de ma grand-mère, juste là, je t'ai amené, les arrières grands-parents, donc ceux qui sont arrivés à l'époque avec les roulottes, comme on disait ça chez nous avec les chevaux, et du coup, ils sont atterris ici. Et là, c'est où il y a ma mère, c'est ici, elle s'appelait Colette, ça va faire depuis le 30 novembre 2022 qu'elle est décédée. Le cancer, où elle s'est battue pendant pratiquement un an, un an passé. Ma maman, c'était le pilier de la famille, j'étais proche d'elle, j'ai toujours vécu avec elle, c'est elle qui a élevé ses petits-enfants pratiquement, et puis aujourd'hui, le fait que je n'ai plus ma mère, oui c'est compliqué pour moi, mes frères et soeurs, tout le monde, les enfants, les petits-enfants, c'était une bonne vivante, c'était une femme qui aimait rigoler, elle était moqueuse, donc on l'aimait pour ça, son petit caractère aussi. Quand ma maman est partie, je lui ai écrit une lettre que j'ai écrite à la main personnelle, et puis j'ai décidé de refaire une pierre tombale, mais en forme de livre, avec des écritures en couleur or et blanc, où est-ce que je lui ai écrit le même texte que je lui ai écrit à la main, je lui ai fait faire en fait sur une plaque, en forme de livre, voilà. Il avait écrit tout simplement un mot que je n'ai jamais pu trop lui dire dans ma vie, chez nous on est honteux entre guillemets, ça ne se fait pas trop, les câlins, les embrassades, tout simplement lui dire qu'elle me manque, que je l'ai aimée en fait, mais qu'aujourd'hui j'ai un combat sur cette terre, c'est de vivre sans la présence de ma maman, donc avec de la souffrance, un manque, mais que la victoire de ce combat, si Dieu veut, c'est de me retrouver avec elle pour l'éternité. C'est ce que je lui ai marqué sur le livre. Je viens constamment tous les jours, depuis qu'elle est partie le 30 novembre, je n'ai jamais manqué un seul jour, je viens à midi, je viens l'après-midi, je viens le soir à la fermeture, je viens tout le temps lui allumer une bougie le soir, pour ne pas me dire de la laisser dans le noir, c'est dans ma tête, c'est comme ça, et puis on vient constamment avec la famille, nettoyer, laver les plaques, mettre des nouvelles fleurs, on entretient tous les jours en fait, c'est notre passe temps en gros, donc c'est fleuri, beaucoup de petits bibelots, des petits enfants, des bougies, des plaques, des fleurs, et puis un jour on avait mis un petit coeur avec écrit Love dessus, c'était mon papa qui l'avait acheté à Lourdes, et puis le lendemain matin je viens et je vois qu'il avait disparu donc ce coeur, donc je me suis dit c'est peut-être quelqu'un de la famille qui l'a enlevé, le nettoyé, quelque chose comme ça, et puis du coup en fait non, on se l'est fait voler, j'ai été voir immédiatement les gardiens du cimetière, donc ils m'ont dit ça arrive, c'est pas la première fois qu'on se fait voler, t'es pas le seul, ça en est resté là, donc la semaine d'après, le même jour, le même week-end, je reviens donc je vois que rien n'a bougé, je reviens le lendemain matin et là je remarque deux bouquets de fleurs par terre, qu'il manquait une autre statue, je vois qu'il manquait un pot de fleurs en artificiel qui manquait, que mon livre que j'avais fait, qui est quand même assez grand, costaud et lourd, qui avait disparu aussi. Donc sur le moment choqué, j'ai regardé sur les tombes voisines, parce qu'à côté il y a quelqu'un de la famille aussi, c'est un cousin moi, qui avait rien disparu, et puis je remarque par terre, donc sur le sol là, des morceaux de verre cassé de vase, qui ne m'appartenaient pas, et je vois aussi des morceaux d'étiquettes de pierres tombales, cassées, donc du coup je continue mon chemin, je marche et je vois juste dans la haie derrière moi en fait, je retrouve une plaque tombale d'une tombe juste à côté, la grise là, cassée. J'ai appelé immédiatement donc la police, donc ils sont venus avec une dame qui fait des empreintes pour cette plaque là, il a fallu que j'aille porter plainte contre X, mais il y a eu sans suite en fait, et puis un jour j'ai dit j'aimerais trouver cette personne, parce que du coup on avait de la haine, les morts c'est sacré chez nous, venir voler chez des morts ça se fait pas, et là qu'on vienne voler sur notre maman des choses de mes enfants, des neveux, des nièces tout ça, mais ça fait mal quoi, surtout le petit quand il vient, qu'il voit plus son coeur là, il pleure quoi, on a volé mon truc à ma mamie qui sait, ça nous fait de la peine, ça nous fait mal au coeur, donc le gardien ensuite il est venu me voir, et là il m'a expliqué qu'il y a eu de nombreux vols, avec un soupçon d'une dame qui a déjà volé dans le cimetière, mais qu'aujourd'hui personne n'avait pris en flag, et qu'on pouvait pas la juger, mais beaucoup de doutes sur cette dame là, c'était une dame, une blonde, on m'a toujours dit ça, et puis un jour je me suis dit, il faut que je la trouve, vu que la mairie ne veut pas se bouger, on leur demande gentiment une caméra, ils ont dit que c'était trop cher, qu'ils n'avaient pas le droit de filmer, on s'est dit on va faire le travail nous-mêmes, donc un jour j'étais avec une de mes soeurs, qui me dit on va acheter un tracker GPS, c'est un tracker qui a la taille d'une clé USB, avec un embout où est-ce qu'on branche le chargeur, où est-ce qu'il faut mettre une application sur mon portable, et qu'on peut retrouver la trace automatiquement, et du coup en fait j'ai eu l'idée de racheter le même bibelot que mon papa avait acheté à Lourdes, donc j'ai acheté ce coeur, et j'ai décidé de mettre ce tracker là, dans le coeur qui a déjà été volé, donc la première fois, donc j'ai percé avec la perceuse dedans, j'ai mis le tracker dans une sopaline bien chargée comme il faut, parce que c'est une batterie qui tient six mois, je l'ai entouré bien, je l'ai mis à l'intérieur, j'ai rebouché avec du plâtre, je l'ai peint, et je suis venu le poser sur la tombe de ma maman, ni vu ni connu, sans que personne ne le sache, et j'ai mis l'application donc sur mon téléphone portable, et en plus de ça j'ai acheté une caméra de chasse qui prend photos et vidéos jour comme nuit, où j'y ai mis avec l'autorisation sur la tombe d'un cousin à nous, qui est juste là, et là simplement de l'attente. C'était très long, ça a mis à peu près deux mois, voire deux mois et demi, et puis un jour, voilà que mon téléphone sonne, que le bibelot a bougé, donc en fait même si on le bouge d'un centimètre, ça marque alerte mouvement, j'ai dit c'est pas grave c'est peut-être du vent, il y avait du vent, donc ça peut arriver que ça bouge, c'est léger, donc j'ai fait mes affaires, et puis je suis venu à midi, et quand j'arrive à midi, je vois plus le coeur, là je regarde sur mon portable, j'allume vite l'application, et je vois que mon coeur s'est fait une petite balade dans tout Tarbes, et qui atterrit à tel endroit, dans une rue sur Tarbes, chez la personne concernée, mais surtout le plus important, c'est qu'il y avait cette caméra de chasse, donc avant toute chose, c'est que j'ai pris la caméra, et je suis parti de suite donc chez mon père, et là j'ai dit à ma soeur, vite je sors l'ordinateur portable, je sors la carte SD de la caméra de chasse, et là donc on va dans les photos, sur la caméra de chasse, et on voit une dame blonde, avec des lunettes, d'un certain âge, pile en train de se pencher vers la tombe de ma maman, et en train de prendre dans la main le GPS, avec le coeur quoi, alors on s'est dit on va appeler la police au commissariat, donc on dit qu'on s'est fait voler il y a deux mois, on a la voleuse, avec une preuve à l'appui, avec un tracker, venez récupérer cette voleuse, qu'elle nous rende les objets, parce que si c'est nous qui y va, on veut pas qu'il se passe des problèmes, et le commissariat veut venir nous aider, il m'a dit clairement, on n'a pas que ça à faire, vous avez qu'à venir à deux heures, porter plainte, mais je dis comment on voulait qu'on porte plainte, alors qu'on a la dame devant nous, avec un GPS, on peut pas la laisser partir comme ça, on va plus la retrouver, parce qu'en plus il n'y avait plus de batterie, sur le tracker, ça commençait à clignoter, il n'a rien voulu savoir, donc du coup quand on a eu ces photos et tout, on a décidé de partir moi, mes deux soeurs, mon père et mon frère, et là on a été chez elles, il faut savoir que le GPS ne nous amène pas dans un point précis, mais nous amène dans un périmètre de 100 mètres où est-ce qu'il est, donc ça nous a amené directement à la rue de cette dame, donc on ne savait pas si c'était chez elle ou pas, et on a envoyé d'abord ma soeur, donc du coup elle a sonné, et c'est cette dame, la voleuse qu'on voit sur la caméra, qui sort, là on se dit c'est elle, c'est bon elle est là, de nouveau on rappelle la police, et on lui réexplique qu'on a la voleuse devant nous, avec la photo, preuve à l'appui, il nous a redit encore une fois, laissez-nous tranquille, on n'a pas que ça à faire, et on dit on va chercher nous notre objet, je lui ai demandé à mon frère de filmer en privé, donc il a filmé, et moi j'ai sonné avec ma soeur, et là elle est sortie, et je lui ai dit bonjour madame, voilà je viens vous voir parce que vous avez été au cimetière ce matin, vous m'avez volé un objet, plusieurs objets même, donc là elle est restée un peu conne, mais elle disait non, non non, et du coup qu'est-ce que j'ai fait, j'ai pris mon portable, je lui ai montré ma caméra, la photo d'elle, du coup quand elle s'est vue, elle est devenue blanche, plus de mots, je lui ai dit vous avez volé telle chose, telle chose, elle disait que non, je lui montre mon portable avec le tracker, je lui ai dit vous avez un coeur avec un tracker, donc du coup elle est sortie, elle nous a amené dans la malle de sa voiture, moi j'ai appuyé sur le bouton option sonner, ça fait sonner le tracker, donc le tracker était dans la malle de la voiture, donc elle a ouvert la malle, et comme par magie elle nous ressort mon coeur volé, après je lui ai dit je vais lui donner maintenant votre nom, prénom, on va au commissariat, on va porter plainte contre vous, et là elle s'est échappée, la dame s'est échappée, donc à deux heures mon papa était donc du coup porté plainte, la police a été la chercher chez elle, elle a passé toute une journée en garde à vue, cette dame là il faut savoir qu'elle a 67 ans, et elle a reconnu le fait, mais il faut savoir aussi il y a eu autre chose, c'est que dans l'histoire mon livre avait toujours disparu, au bout de 3-4 jours, je rentre au cimetière comme d'habitude le soir, la journée, et je remarque dès que je rentre dans le cimetière, en fait je mets toujours ma tête vers la droite parce que j'ai ma tante aussi qui est partie il n'y a pas très longtemps, et je remarque une tombe grise que je vois tout souvent où il n'y a rien dessus, elle a simplement été achetée, comme par magie je retrouve mon livre qui réapparaît deux mois après sur cette tombe là, ni vu ni connu, c'était comme par hasard, il se passe tout ça, je retrouve ma plaque, donc je retrouve ma plaque, qu'est ce que j'ai fait, je n'ai pas la touché, c'est le gardien qui a pris ma plaque, qui s'est déplacé lui même au commissariat, qui a été porté plainte, donc elle s'est fait choper, elle a expliqué quelque chose, donc elle a perdu sa maman, donc elle disait qu'apparemment c'est la police qui m'a dit ça, qu'il ne faut pas lui parler de sa mère, donc dès qu'on lui parle de sa mère elle monte dans les tours, elle s'énerve, ça lui fait du mal, et elle a dit qu'elle voulait tout ce qui était jolis petits objets, des anges, des coeurs, tout ce qui avait écrit des choses de maman dessus, comme mon livre, il y avait écrit maman je t'aime, elle prenait tout ça, il n'y a pas eu que moi, beaucoup de statues, des vierges, des anges aussi, d'autres personnes aussi, mais personne n'a jamais eu l'idée de faire quoi que ce soit, mais le gardien m'a sorti une liste de deux ou trois feuilles avec plein de vols, sous sa pire tombale on a été avec le gardien, derrière elle a des pots de fleurs en marbre, un seul pot il faut savoir que ça vaut 200 voire 300 euros, elle en avait peut-être une dizaine, plus tard on a reté sur la tombe de ses parents pour voir, comme par hasard tous les vases avaient tout disparu, elle a fait un grand nettoyage et elle a mis tous les vases chez les voisins, quand on levait le pot d'habitude il y avait la trace du pot avec la saleté, et les nouveaux qu'elle a mis, on le levait, il n'y avait rien, c'était tout neuf donc voilà elle a senti le bouillon, donc elle a voulu faire un peu de nettoyage, mais malheureusement la police a quand même fait son travail d'aller chez elle la traquer, donc bien sûr elle n'est pas elle est en garde à vue mais elle est passée aussi devant un docteur, un genre de psy, qui a reconnu qu'elle avait un petit problème bien sûr mais qu'elle était quand même apte de passer au tribunal, elle a fait la une des journaux, elle a fait de la garde à vue à 67 ans et puis j'espère qu'elle recommencera pas mais jamais de la vie je m'aurais imaginé que c'était une femme de 67 ans qui est connue de Tarbes et qui vole depuis des années en fait, voilà vraiment j'étais choqué\""
      ]
     },
     "execution_count": 5,
     "metadata": {},
     "output_type": "execute_result"
    }
   ],
   "source": [
    "ws = fetch(\"2023C6612S0153\")\n",
    "\"\".join(s[\"text\"] for s in json.loads(ws.segments))"
   ]
  },
  {
   "cell_type": "markdown",
   "id": "11fdbaf2-34ab-40ed-abec-3985d081ee03",
   "metadata": {},
   "source": [
    "# Avec `polars`"
   ]
  },
  {
   "cell_type": "code",
   "execution_count": 6,
   "id": "8a430255-bfca-4b79-953f-c2d7564d5eb4",
   "metadata": {},
   "outputs": [],
   "source": [
    "import polars as pl"
   ]
  },
  {
   "cell_type": "code",
   "execution_count": 7,
   "id": "e24ec8e8-2113-4ad6-bf30-b17bbcff6cf3",
   "metadata": {},
   "outputs": [],
   "source": [
    "df_pl = pl.scan_csv(p.Path(\"../dataset\") / \"transcripts\" / \"whisper.csv\", low_memory=True)"
   ]
  },
  {
   "cell_type": "markdown",
   "id": "6c59d3b2-c277-44cf-aa89-8a4beec96cb7",
   "metadata": {},
   "source": [
    "## polars SQL"
   ]
  },
  {
   "cell_type": "code",
   "execution_count": 8,
   "id": "f0047878-211d-42cd-8ffc-42eb3d6ac834",
   "metadata": {},
   "outputs": [
    {
     "data": {
      "text/html": [
       "<h4>NAIVE QUERY PLAN</h4><p>run <b>LazyFrame.show_graph()</b> to see the optimized version</p><?xml version=\"1.0\" encoding=\"UTF-8\" standalone=\"no\"?>\n",
       "<!DOCTYPE svg PUBLIC \"-//W3C//DTD SVG 1.1//EN\"\n",
       " \"http://www.w3.org/Graphics/SVG/1.1/DTD/svg11.dtd\">\n",
       "<!-- Generated by graphviz version 2.43.0 (0)\n",
       " -->\n",
       "<!-- Title: polars_query Pages: 1 -->\n",
       "<svg width=\"344pt\" height=\"205pt\"\n",
       " viewBox=\"0.00 0.00 344.00 205.00\" xmlns=\"http://www.w3.org/2000/svg\" xmlns:xlink=\"http://www.w3.org/1999/xlink\">\n",
       "<g id=\"graph0\" class=\"graph\" transform=\"scale(1 1) rotate(0) translate(4 201)\">\n",
       "<title>polars_query</title>\n",
       "<polygon fill=\"white\" stroke=\"transparent\" points=\"-4,4 -4,-201 340,-201 340,4 -4,4\"/>\n",
       "<!-- π 3/3 [(0, 0)] -->\n",
       "<g id=\"node1\" class=\"node\">\n",
       "<title>π 3/3 [(0, 0)]</title>\n",
       "<polygon fill=\"none\" stroke=\"black\" points=\"195,-197 141,-197 141,-161 195,-161 195,-197\"/>\n",
       "<text text-anchor=\"middle\" x=\"168\" y=\"-175.3\" font-family=\"Times,serif\" font-size=\"14.00\">π 3/3</text>\n",
       "</g>\n",
       "<!-- FILTER BY (col(&quot;magnetothequeId&quot;)) ... [(0, 1)] -->\n",
       "<g id=\"node2\" class=\"node\">\n",
       "<title>FILTER BY (col(&quot;magnetothequeId&quot;)) ... [(0, 1)]</title>\n",
       "<polygon fill=\"none\" stroke=\"black\" points=\"317,-125 19,-125 19,-89 317,-89 317,-125\"/>\n",
       "<text text-anchor=\"middle\" x=\"168\" y=\"-103.3\" font-family=\"Times,serif\" font-size=\"14.00\">FILTER BY (col(&quot;magnetothequeId&quot;)) ...</text>\n",
       "</g>\n",
       "<!-- π 3/3 [(0, 0)]&#45;&#45;FILTER BY (col(&quot;magnetothequeId&quot;)) ... [(0, 1)] -->\n",
       "<g id=\"edge1\" class=\"edge\">\n",
       "<title>π 3/3 [(0, 0)]&#45;&#45;FILTER BY (col(&quot;magnetothequeId&quot;)) ... [(0, 1)]</title>\n",
       "<path fill=\"none\" stroke=\"black\" d=\"M168,-160.7C168,-149.85 168,-135.92 168,-125.1\"/>\n",
       "</g>\n",
       "<!-- Csv SCAN ../dataset/transcripts/whisper.csv;\n",
       "π */3;\n",
       "σ &#45; [(0, 2)] -->\n",
       "<g id=\"node3\" class=\"node\">\n",
       "<title>Csv SCAN ../dataset/transcripts/whisper.csv;\n",
       "π */3;\n",
       "σ &#45; [(0, 2)]</title>\n",
       "<polygon fill=\"none\" stroke=\"black\" points=\"336,-53 0,-53 0,0 336,0 336,-53\"/>\n",
       "<text text-anchor=\"middle\" x=\"168\" y=\"-37.8\" font-family=\"Times,serif\" font-size=\"14.00\">Csv SCAN ../dataset/transcripts/whisper.csv;</text>\n",
       "<text text-anchor=\"middle\" x=\"168\" y=\"-22.8\" font-family=\"Times,serif\" font-size=\"14.00\">π */3;</text>\n",
       "<text text-anchor=\"middle\" x=\"168\" y=\"-7.8\" font-family=\"Times,serif\" font-size=\"14.00\">σ &#45;</text>\n",
       "</g>\n",
       "<!-- FILTER BY (col(&quot;magnetothequeId&quot;)) ... [(0, 1)]&#45;&#45;Csv SCAN ../dataset/transcripts/whisper.csv;\n",
       "π */3;\n",
       "σ &#45; [(0, 2)] -->\n",
       "<g id=\"edge2\" class=\"edge\">\n",
       "<title>FILTER BY (col(&quot;magnetothequeId&quot;)) ... [(0, 1)]&#45;&#45;Csv SCAN ../dataset/transcripts/whisper.csv;\n",
       "π */3;\n",
       "σ &#45; [(0, 2)]</title>\n",
       "<path fill=\"none\" stroke=\"black\" d=\"M168,-88.97C168,-78.51 168,-64.9 168,-53.16\"/>\n",
       "</g>\n",
       "</g>\n",
       "</svg>\n"
      ],
      "text/plain": [
       "<LazyFrame [3 cols, {\"magnetothequeId\": Utf8 … \"segments\": Utf8}] at 0x7FEC6C17A950>"
      ]
     },
     "execution_count": 8,
     "metadata": {},
     "output_type": "execute_result"
    }
   ],
   "source": [
    "query = pl.SQLContext(frame=df_pl).execute(\"select * from frame where magnetothequeId = '2023I28506S0275'\")\n",
    "query"
   ]
  },
  {
   "cell_type": "markdown",
   "id": "04b3b785-8b1b-47f2-b001-32017b676617",
   "metadata": {},
   "source": [
    "## Native polars"
   ]
  },
  {
   "cell_type": "code",
   "execution_count": 10,
   "id": "4f91d010-556f-4329-9a7b-bd1a6c7e246f",
   "metadata": {},
   "outputs": [
    {
     "data": {
      "text/html": [
       "<h4>NAIVE QUERY PLAN</h4><p>run <b>LazyFrame.show_graph()</b> to see the optimized version</p><?xml version=\"1.0\" encoding=\"UTF-8\" standalone=\"no\"?>\n",
       "<!DOCTYPE svg PUBLIC \"-//W3C//DTD SVG 1.1//EN\"\n",
       " \"http://www.w3.org/Graphics/SVG/1.1/DTD/svg11.dtd\">\n",
       "<!-- Generated by graphviz version 2.43.0 (0)\n",
       " -->\n",
       "<!-- Title: polars_query Pages: 1 -->\n",
       "<svg width=\"344pt\" height=\"205pt\"\n",
       " viewBox=\"0.00 0.00 344.00 205.00\" xmlns=\"http://www.w3.org/2000/svg\" xmlns:xlink=\"http://www.w3.org/1999/xlink\">\n",
       "<g id=\"graph0\" class=\"graph\" transform=\"scale(1 1) rotate(0) translate(4 201)\">\n",
       "<title>polars_query</title>\n",
       "<polygon fill=\"white\" stroke=\"transparent\" points=\"-4,4 -4,-201 340,-201 340,4 -4,4\"/>\n",
       "<!-- π 1/3 [(0, 0)] -->\n",
       "<g id=\"node1\" class=\"node\">\n",
       "<title>π 1/3 [(0, 0)]</title>\n",
       "<polygon fill=\"none\" stroke=\"black\" points=\"195,-197 141,-197 141,-161 195,-161 195,-197\"/>\n",
       "<text text-anchor=\"middle\" x=\"168\" y=\"-175.3\" font-family=\"Times,serif\" font-size=\"14.00\">π 1/3</text>\n",
       "</g>\n",
       "<!-- FILTER BY (col(&quot;magnetothequeId&quot;)) ... [(0, 1)] -->\n",
       "<g id=\"node2\" class=\"node\">\n",
       "<title>FILTER BY (col(&quot;magnetothequeId&quot;)) ... [(0, 1)]</title>\n",
       "<polygon fill=\"none\" stroke=\"black\" points=\"317,-125 19,-125 19,-89 317,-89 317,-125\"/>\n",
       "<text text-anchor=\"middle\" x=\"168\" y=\"-103.3\" font-family=\"Times,serif\" font-size=\"14.00\">FILTER BY (col(&quot;magnetothequeId&quot;)) ...</text>\n",
       "</g>\n",
       "<!-- π 1/3 [(0, 0)]&#45;&#45;FILTER BY (col(&quot;magnetothequeId&quot;)) ... [(0, 1)] -->\n",
       "<g id=\"edge1\" class=\"edge\">\n",
       "<title>π 1/3 [(0, 0)]&#45;&#45;FILTER BY (col(&quot;magnetothequeId&quot;)) ... [(0, 1)]</title>\n",
       "<path fill=\"none\" stroke=\"black\" d=\"M168,-160.7C168,-149.85 168,-135.92 168,-125.1\"/>\n",
       "</g>\n",
       "<!-- Csv SCAN ../dataset/transcripts/whisper.csv;\n",
       "π */3;\n",
       "σ &#45; [(0, 2)] -->\n",
       "<g id=\"node3\" class=\"node\">\n",
       "<title>Csv SCAN ../dataset/transcripts/whisper.csv;\n",
       "π */3;\n",
       "σ &#45; [(0, 2)]</title>\n",
       "<polygon fill=\"none\" stroke=\"black\" points=\"336,-53 0,-53 0,0 336,0 336,-53\"/>\n",
       "<text text-anchor=\"middle\" x=\"168\" y=\"-37.8\" font-family=\"Times,serif\" font-size=\"14.00\">Csv SCAN ../dataset/transcripts/whisper.csv;</text>\n",
       "<text text-anchor=\"middle\" x=\"168\" y=\"-22.8\" font-family=\"Times,serif\" font-size=\"14.00\">π */3;</text>\n",
       "<text text-anchor=\"middle\" x=\"168\" y=\"-7.8\" font-family=\"Times,serif\" font-size=\"14.00\">σ &#45;</text>\n",
       "</g>\n",
       "<!-- FILTER BY (col(&quot;magnetothequeId&quot;)) ... [(0, 1)]&#45;&#45;Csv SCAN ../dataset/transcripts/whisper.csv;\n",
       "π */3;\n",
       "σ &#45; [(0, 2)] -->\n",
       "<g id=\"edge2\" class=\"edge\">\n",
       "<title>FILTER BY (col(&quot;magnetothequeId&quot;)) ... [(0, 1)]&#45;&#45;Csv SCAN ../dataset/transcripts/whisper.csv;\n",
       "π */3;\n",
       "σ &#45; [(0, 2)]</title>\n",
       "<path fill=\"none\" stroke=\"black\" d=\"M168,-88.97C168,-78.51 168,-64.9 168,-53.16\"/>\n",
       "</g>\n",
       "</g>\n",
       "</svg>\n"
      ],
      "text/plain": [
       "<LazyFrame [1 col, {\"segments\": Utf8}] at 0x7FEC6C179D50>"
      ]
     },
     "execution_count": 10,
     "metadata": {},
     "output_type": "execute_result"
    }
   ],
   "source": [
    "query = df_pl.filter(pl.col(\"magnetothequeId\") == \"2023I28506S0275\").select(\"segments\")\n",
    "query"
   ]
  },
  {
   "cell_type": "code",
   "execution_count": 11,
   "id": "9b074a7b-ae46-4e5c-9ce3-c0971f814fd4",
   "metadata": {},
   "outputs": [
    {
     "data": {
      "text/plain": [
       "\" On encourage les personnes les plus fragiles à se faire vacciner rapidement, insiste sur France Info la présidente du comité de veille et d'anticipation des risques sanitaires.La campagne de vaccination contre le Covid débute aujourd'hui avec deux semaines d'avance.Elle est ouverte à tous.La baisse est si faible qu'elle est quasi imperceptible.Pour la première fois, la facture de notre panier France Info diminue 26 centimes de moins sur un total de 110 euros sur notre liste de produits du quotidien. Plus qu'une baisse, il faut plutôt y voir une stabilisation qui se poursuit, explique notre partenaire Nielsen IQ.C'est lors d'un déplacement à la nouvelle caserne de gendarmerie de Tonnins, dans l'Haute-Hégaron, qu'Emmanuel Macron va dévoiler, cet après-midi, la carte des sites où seront implantées 200 brigades.Il y aura entre une et quatre brigades de gendarmerie de plus dans chaque département. Aux Etats-Unis, Donald Trump et deux de ses enfants fassent à la justice procès au civil qui débute aujourd'hui pour avoir surévalué la valeur de ses biens immobiliers.L'ancien président américain parle d'imposture.Il affirme qu'il sera au tribunal pour laver, dit-il, son nom et sa réputation.\""
      ]
     },
     "execution_count": 11,
     "metadata": {},
     "output_type": "execute_result"
    }
   ],
   "source": [
    "seg = query.collect().to_dict(as_series=False)\n",
    "\"\".join(s[\"text\"] for s in json.loads(seg[\"segments\"][0]))"
   ]
  }
 ],
 "metadata": {
  "kernelspec": {
   "display_name": "Python 3 (ipykernel)",
   "language": "python",
   "name": "python3"
  },
  "language_info": {
   "codemirror_mode": {
    "name": "ipython",
    "version": 3
   },
   "file_extension": ".py",
   "mimetype": "text/x-python",
   "name": "python",
   "nbconvert_exporter": "python",
   "pygments_lexer": "ipython3",
   "version": "3.11.2"
  }
 },
 "nbformat": 4,
 "nbformat_minor": 5
}
